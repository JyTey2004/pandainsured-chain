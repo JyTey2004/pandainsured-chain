{
 "cells": [
  {
   "cell_type": "code",
   "execution_count": 2,
   "metadata": {},
   "outputs": [],
   "source": [
    "import pandas as pd"
   ]
  },
  {
   "cell_type": "code",
   "execution_count": 3,
   "metadata": {},
   "outputs": [
    {
     "data": {
      "text/plain": [
       "Index(['Time', 'speed', 'steering_angle', 'wheel_speed_front_left',\n",
       "       'wheel_speed_front_right', 'wheel_speed_rear_left',\n",
       "       'wheel_speed_rear_right', 'radar_forward_distance',\n",
       "       'radar_left_distance', 'radar_relative_speed', 'radar_address',\n",
       "       'radar_new_track', 'raw_can_src', 'raw_can_address',\n",
       "       'accelerometer_forward', 'accelerometer_right', 'accelerometer_down',\n",
       "       'gory_forward', 'gory_right', 'gory_down', 'gyro_bias_forward',\n",
       "       'gyro_bias_right', 'gyro_bias_down', 'gyro_uncalibrated_forward',\n",
       "       'gyro_uncalibrated_right', 'gyro_uncalibrated_down',\n",
       "       'live_gnss_qcom_latitude', 'live_gnss_qcom_longitude',\n",
       "       'live_gnss_qcom_speed', 'live_gnss_qcom_utc_timestamp',\n",
       "       'live_gnss_qcom_altitude', 'live_gnss_qcom_bearing',\n",
       "       'live_gnss_ublox_latitude', 'live_gnss_ublox_longitude',\n",
       "       'live_gnss_ublox_speed', 'live_gnss_ublox_utc_timestamp',\n",
       "       'live_gnss_ublox_altitude', 'live_gnss_ublox_bearing',\n",
       "       'raw_gnss_qcom_prn', 'raw_gnss_qcom_week_of_gps_time_of_reception',\n",
       "       'raw_gnss_qcom_time_pf_week_of_gps_time_of_reception',\n",
       "       'raw_gnss_qcom_pseudorange', 'raw_gnss_qcom_pseudorange_std',\n",
       "       'raw_gnss_qcom_pseudorange_rate', 'raw_gnss_qcom_pseudorange_rate_std',\n",
       "       'raw_gnss_ublox_prn', 'raw_gnss_ublox_week_of_gps_time_of_reception',\n",
       "       'raw_gnss_ublox_time_pf_week_of_gps_time_of_reception',\n",
       "       'raw_gnss_ublox_pseudorange', 'raw_gnss_ublox_pseudorange_std',\n",
       "       'raw_gnss_ublox_pseudorange_rate',\n",
       "       'raw_gnss_ublox_pseudorange_rate_std', 'route_id', 'VIN', 'Country',\n",
       "       'Vehicle_Make', 'Vehicle_Model', 'Autonomy_Level', 'accident_category'],\n",
       "      dtype='object')"
      ]
     },
     "execution_count": 3,
     "metadata": {},
     "output_type": "execute_result"
    }
   ],
   "source": [
    "# Read the data from the CSV file\n",
    "data = pd.read_csv('synthetic_vehicle_data.csv')\n",
    "data.columns"
   ]
  },
  {
   "cell_type": "code",
   "execution_count": 16,
   "metadata": {},
   "outputs": [],
   "source": [
    "# If VIN of vehicle is VIN_0, Add a new column 'Make' and set the value to 'Tesla',\n",
    "# and a new column 'Model' and set the value to 'Model S'\n",
    "data.loc[data['VIN'] == 'VIN_0', 'manufacturer'] = 'Tesla'\n",
    "data.loc[data['VIN'] == 'VIN_0', 'model'] = 'Model S'\n",
    "data.loc[data['VIN'] == 'VIN_1', 'manufacturer'] = 'Tesla'\n",
    "data.loc[data['VIN'] == 'VIN_1', 'model'] = 'Model 3'\n",
    "data.loc[data['VIN'] == 'VIN_2', 'manufacturer'] = 'BYD'\n",
    "data.loc[data['VIN'] == 'VIN_2', 'model'] = 'e6'\n",
    "data.loc[data['VIN'] == 'VIN_3', 'manufacturer'] = 'Tesla'\n",
    "data.loc[data['VIN'] == 'VIN_3', 'model'] = 'Model Y'\n",
    "data.loc[data['VIN'] == 'VIN_4', 'manufacturer'] = 'Tesla'\n",
    "data.loc[data['VIN'] == 'VIN_4', 'model'] = 'Cybertruck'\n",
    "data.loc[data['VIN'] == 'VIN_5', 'manufacturer'] = 'BMW'\n",
    "data.loc[data['VIN'] == 'VIN_5', 'model'] = 'i3'\n",
    "\n"
   ]
  },
  {
   "cell_type": "code",
   "execution_count": 10,
   "metadata": {},
   "outputs": [
    {
     "name": "stdout",
     "output_type": "stream",
     "text": [
      "   Time      speed  steering_angle  wheel_speed_front_left  \\\n",
      "0     0  12.879748       20.200738               60.813197   \n",
      "\n",
      "   wheel_speed_front_right  wheel_speed_rear_left  wheel_speed_rear_right  \\\n",
      "0                52.249406              81.396329               22.135162   \n",
      "\n",
      "   radar_forward_distance  radar_left_distance  radar_relative_speed  ...  \\\n",
      "0              195.857139           -47.187212             22.039718  ...   \n",
      "\n",
      "   raw_gnss_ublox_time_pf_week_of_gps_time_of_reception  \\\n",
      "0                                                960      \n",
      "\n",
      "   raw_gnss_ublox_pseudorange  raw_gnss_ublox_pseudorange_std  \\\n",
      "0                    7.049638                         8.48162   \n",
      "\n",
      "   raw_gnss_ublox_pseudorange_rate  raw_gnss_ublox_pseudorange_rate_std  \\\n",
      "0                         4.594712                             0.982031   \n",
      "\n",
      "   route_id    VIN  accident_category   Make    Model  \n",
      "0        11  VIN_0                  1  Tesla  Model S  \n",
      "\n",
      "[1 rows x 57 columns]\n"
     ]
    }
   ],
   "source": [
    "#print the first row of the data\n",
    "print(data.head(1))"
   ]
  },
  {
   "cell_type": "code",
   "execution_count": 17,
   "metadata": {},
   "outputs": [],
   "source": [
    "data.to_csv('vehicle_data_processed.csv', index=False)"
   ]
  }
 ],
 "metadata": {
  "kernelspec": {
   "display_name": "Python 3",
   "language": "python",
   "name": "python3"
  },
  "language_info": {
   "codemirror_mode": {
    "name": "ipython",
    "version": 3
   },
   "file_extension": ".py",
   "mimetype": "text/x-python",
   "name": "python",
   "nbconvert_exporter": "python",
   "pygments_lexer": "ipython3",
   "version": "3.10.12"
  }
 },
 "nbformat": 4,
 "nbformat_minor": 2
}
